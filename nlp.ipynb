{
  "nbformat": 4,
  "nbformat_minor": 0,
  "metadata": {
    "colab": {
      "provenance": [],
      "authorship_tag": "ABX9TyMoEo95Zr45fdUOA4l2WJbm",
      "include_colab_link": true
    },
    "kernelspec": {
      "name": "python3",
      "display_name": "Python 3"
    },
    "language_info": {
      "name": "python"
    }
  },
  "cells": [
    {
      "cell_type": "markdown",
      "metadata": {
        "id": "view-in-github",
        "colab_type": "text"
      },
      "source": [
        "<a href=\"https://colab.research.google.com/github/arminaria456/preprocessings/blob/main/nlp.ipynb\" target=\"_parent\"><img src=\"https://colab.research.google.com/assets/colab-badge.svg\" alt=\"Open In Colab\"/></a>"
      ]
    },
    {
      "cell_type": "code",
      "execution_count": 2,
      "metadata": {
        "colab": {
          "base_uri": "https://localhost:8080/"
        },
        "id": "ld1Arv6fRK23",
        "outputId": "e83789fb-ab72-4740-db67-44d80ce6356c"
      },
      "outputs": [
        {
          "output_type": "stream",
          "name": "stderr",
          "text": [
            "[nltk_data] Downloading package punkt to /root/nltk_data...\n",
            "[nltk_data]   Unzipping tokenizers/punkt.zip.\n"
          ]
        },
        {
          "output_type": "execute_result",
          "data": {
            "text/plain": [
              "True"
            ]
          },
          "metadata": {},
          "execution_count": 2
        }
      ],
      "source": [
        "import nltk\n",
        "nltk.download('punkt')"
      ]
    },
    {
      "cell_type": "code",
      "source": [
        "paragraph = \"\"\"Red Dead Redemption is a 2018 action-adventure game developed and published by Rockstar Games. The game is the third entry in\n",
        "               the Red Dead series and a prequel to the 2010 game Red Dead Redemption. The story is set in a fictionalized representation of the United States in\n",
        "               1899 and follows the exploits of Arthur Morgan, an outlaw and member of the Van der Linde gang, who must deal with the decline of the Wild West while\n",
        "               attempting to survive against government forces, rival gangs, and other adversaries. The game is presented through first- and third-person perspectives,\n",
        "               and the player may freely roam in its interactive open world. Gameplay elements include shootouts, robberies, hunting, horseback riding, interacting with\n",
        "               non-player characters, and maintaining the character's honor rating through moral choices and deeds. A bounty system governs the response of law enforcement\n",
        "               and bounty hunters to crimes committed by the player.The game's development lasted over eight years, beginning soon after Red Dead Redemption's release,\n",
        "               and it became one of the most expensive video games ever made. Rockstar co-opted all of its studios into one large team to facilitate development.\n",
        "               They drew influence from real locations as opposed to film or art, focused on creating an accurate reflection of the time with the game's characters and world.\n",
        "               The game was Rockstar's first built specifically for eighth-generation consoles, having tested their technical capabilities while porting Grand Theft Auto V.\n",
        "               The game's soundtrack features an original score composed by Woody Jackson and several vocal tracks produced by Daniel Lanois.\n",
        "               Development included a crunch schedule of 100-hour weeks, leading to reports of mandatory and unpaid overtime. Red Dead Online,\n",
        "               the game's online multiplayer mode, lets up to 32 players engage in a variety of cooperative and competitive game modes.\"\"\""
      ],
      "metadata": {
        "id": "GyzlVA5bRYHm"
      },
      "execution_count": 27,
      "outputs": []
    },
    {
      "cell_type": "code",
      "source": [
        "sentences = nltk.sent_tokenize(paragraph)\n",
        "print(sentences)"
      ],
      "metadata": {
        "colab": {
          "base_uri": "https://localhost:8080/"
        },
        "id": "wuFYBLyURccO",
        "outputId": "4307ce10-b8cc-49e2-baee-fb86eef44514"
      },
      "execution_count": 4,
      "outputs": [
        {
          "output_type": "stream",
          "name": "stdout",
          "text": [
            "['Red Dead Redemption is a 2018 action-adventure game developed and published by Rockstar Games.', 'The game is the third entry in\\n               the Red Dead series and a prequel to the 2010 game Red Dead Redemption.', 'The story is set in a fictionalized representation of the United States in\\n               1899 and follows the exploits of Arthur Morgan, an outlaw and member of the Van der Linde gang, who must deal with the decline of the Wild West while\\n               attempting to survive against government forces, rival gangs, and other adversaries.', 'The game is presented through first- and third-person perspectives,\\n               and the player may freely roam in its interactive open world.', \"Gameplay elements include shootouts, robberies, hunting, horseback riding, interacting with\\n               non-player characters, and maintaining the character's honor rating through moral choices and deeds.\", \"A bounty system governs the response of law enforcement\\n               and bounty hunters to crimes committed by the player.The game's development lasted over eight years, beginning soon after Red Dead Redemption's release,\\n               and it became one of the most expensive video games ever made.\", 'Rockstar co-opted all of its studios into one large team to facilitate development.', \"They drew influence from real locations as opposed to film or art, focused on creating an accurate reflection of the time with the game's characters and world.\", \"The game was Rockstar's first built specifically for eighth-generation consoles, having tested their technical capabilities while porting Grand Theft Auto V.\\n               The game's soundtrack features an original score composed by Woody Jackson and several vocal tracks produced by Daniel Lanois.\", 'Development included a crunch schedule of 100-hour weeks, leading to reports of mandatory and unpaid overtime.', \"Red Dead Online,\\n               the game's online multiplayer mode, lets up to 32 players engage in a variety of cooperative and competitive game modes.\"]\n"
          ]
        }
      ]
    },
    {
      "cell_type": "code",
      "source": [
        "words = nltk.word_tokenize(paragraph)\n",
        "print(words)"
      ],
      "metadata": {
        "colab": {
          "base_uri": "https://localhost:8080/"
        },
        "id": "ghUnUGyfBA1D",
        "outputId": "f435af26-268f-4050-aed8-8a89f734b815"
      },
      "execution_count": 24,
      "outputs": [
        {
          "output_type": "stream",
          "name": "stdout",
          "text": [
            "['Red', 'Dead', 'Redemption', 'is', 'a', '2018', 'action-adventure', 'game', 'developed', 'and', 'published', 'by', 'Rockstar', 'Games', '.', 'The', 'game', 'is', 'the', 'third', 'entry', 'in', 'the', 'Red', 'Dead', 'series', 'and', 'a', 'prequel', 'to', 'the', '2010', 'game', 'Red', 'Dead', 'Redemption', '.', 'The', 'story', 'is', 'set', 'in', 'a', 'fictionalized', 'representation', 'of', 'the', 'United', 'States', 'in', '1899', 'and', 'follows', 'the', 'exploits', 'of', 'Arthur', 'Morgan', ',', 'an', 'outlaw', 'and', 'member', 'of', 'the', 'Van', 'der', 'Linde', 'gang', ',', 'who', 'must', 'deal', 'with', 'the', 'decline', 'of', 'the', 'Wild', 'West', 'while', 'attempting', 'to', 'survive', 'against', 'government', 'forces', ',', 'rival', 'gangs', ',', 'and', 'other', 'adversaries', '.', 'The', 'game', 'is', 'presented', 'through', 'first-', 'and', 'third-person', 'perspectives', ',', 'and', 'the', 'player', 'may', 'freely', 'roam', 'in', 'its', 'interactive', 'open', 'world', '.', 'Gameplay', 'elements', 'include', 'shootouts', ',', 'robberies', ',', 'hunting', ',', 'horseback', 'riding', ',', 'interacting', 'with', 'non-player', 'characters', ',', 'and', 'maintaining', 'the', 'character', \"'s\", 'honor', 'rating', 'through', 'moral', 'choices', 'and', 'deeds', '.', 'A', 'bounty', 'system', 'governs', 'the', 'response', 'of', 'law', 'enforcement', 'and', 'bounty', 'hunters', 'to', 'crimes', 'committed', 'by', 'the', 'player.The', 'game', \"'s\", 'development', 'lasted', 'over', 'eight', 'years', ',', 'beginning', 'soon', 'after', 'Red', 'Dead', 'Redemption', \"'s\", 'release', ',', 'and', 'it', 'became', 'one', 'of', 'the', 'most', 'expensive', 'video', 'games', 'ever', 'made', '.', 'Rockstar', 'co-opted', 'all', 'of', 'its', 'studios', 'into', 'one', 'large', 'team', 'to', 'facilitate', 'development', '.', 'They', 'drew', 'influence', 'from', 'real', 'locations', 'as', 'opposed', 'to', 'film', 'or', 'art', ',', 'focused', 'on', 'creating', 'an', 'accurate', 'reflection', 'of', 'the', 'time', 'with', 'the', 'game', \"'s\", 'characters', 'and', 'world', '.', 'The', 'game', 'was', 'Rockstar', \"'s\", 'first', 'built', 'specifically', 'for', 'eighth-generation', 'consoles', ',', 'having', 'tested', 'their', 'technical', 'capabilities', 'while', 'porting', 'Grand', 'Theft', 'Auto', 'V.', 'The', 'game', \"'s\", 'soundtrack', 'features', 'an', 'original', 'score', 'composed', 'by', 'Woody', 'Jackson', 'and', 'several', 'vocal', 'tracks', 'produced', 'by', 'Daniel', 'Lanois', '.', 'Development', 'included', 'a', 'crunch', 'schedule', 'of', '100-hour', 'weeks', ',', 'leading', 'to', 'reports', 'of', 'mandatory', 'and', 'unpaid', 'overtime', '.', 'Red', 'Dead', 'Online', ',', 'the', 'game', \"'s\", 'online', 'multiplayer', 'mode', ',', 'lets', 'up', 'to', '32', 'players', 'engage', 'in', 'a', 'variety', 'of', 'cooperative', 'and', 'competitive', 'game', 'modes', '.']\n"
          ]
        }
      ]
    },
    {
      "cell_type": "code",
      "source": [
        "from nltk.stem import PorterStemmer\n",
        "from nltk.corpus import stopwords\n",
        "nltk.download('stopwords')"
      ],
      "metadata": {
        "colab": {
          "base_uri": "https://localhost:8080/"
        },
        "id": "nnDG3OBjB-Ny",
        "outputId": "15bfc94c-3cdf-4623-83af-43c403b967a5"
      },
      "execution_count": 6,
      "outputs": [
        {
          "output_type": "stream",
          "name": "stderr",
          "text": [
            "[nltk_data] Downloading package stopwords to /root/nltk_data...\n",
            "[nltk_data]   Unzipping corpora/stopwords.zip.\n"
          ]
        },
        {
          "output_type": "execute_result",
          "data": {
            "text/plain": [
              "True"
            ]
          },
          "metadata": {},
          "execution_count": 6
        }
      ]
    },
    {
      "cell_type": "code",
      "source": [
        "stemmer = PorterStemmer()\n",
        "\n",
        "for i in range (len(sentences)):\n",
        "  words = nltk.word_tokenize(sentences[i])\n",
        "  words = [stemmer.stem(word) for word in words if word not in set(stopwords.words('english'))]\n",
        "  sentences[i] = ' '.join(words)"
      ],
      "metadata": {
        "id": "bFc8jnuZCh8B"
      },
      "execution_count": 29,
      "outputs": []
    },
    {
      "cell_type": "code",
      "source": [
        "sentences[1]"
      ],
      "metadata": {
        "colab": {
          "base_uri": "https://localhost:8080/",
          "height": 36
        },
        "id": "QSvqsSsSGI9i",
        "outputId": "4d6c7313-2c9f-46aa-b354-0899fbc4460a"
      },
      "execution_count": 31,
      "outputs": [
        {
          "output_type": "execute_result",
          "data": {
            "text/plain": [
              "'thegamethirdentrireddeadseriprequel2010gamereddeadredempt .'"
            ],
            "application/vnd.google.colaboratory.intrinsic+json": {
              "type": "string"
            }
          },
          "metadata": {},
          "execution_count": 31
        }
      ]
    },
    {
      "cell_type": "code",
      "source": [
        "from nltk.stem import WordNetLemmatizer\n",
        "nltk.download('wordnet')"
      ],
      "metadata": {
        "colab": {
          "base_uri": "https://localhost:8080/"
        },
        "id": "DFKA2GJNH381",
        "outputId": "408f02b0-7428-47ac-ee38-4f7e2a7f2a2c"
      },
      "execution_count": 32,
      "outputs": [
        {
          "output_type": "stream",
          "name": "stderr",
          "text": [
            "[nltk_data] Downloading package wordnet to /root/nltk_data...\n"
          ]
        },
        {
          "output_type": "execute_result",
          "data": {
            "text/plain": [
              "True"
            ]
          },
          "metadata": {},
          "execution_count": 32
        }
      ]
    },
    {
      "cell_type": "code",
      "source": [
        "lemmatizer = WordNetLemmatizer()\n",
        "sentencess = nltk.sent_tokenize(paragraph)\n",
        "for i in range (len(sentencess)):\n",
        "   words = nltk.word_tokenize(sentencess[i])\n",
        "   words = [lemmatizer.lemmatize(word) for word in words if word not in set(stopwords.words('english'))]\n",
        "   sentencess[i] = ' '.join(words)"
      ],
      "metadata": {
        "id": "TUKntXREIKhw"
      },
      "execution_count": 37,
      "outputs": []
    },
    {
      "cell_type": "code",
      "source": [
        "sentencess[1]"
      ],
      "metadata": {
        "colab": {
          "base_uri": "https://localhost:8080/",
          "height": 36
        },
        "id": "5KnoYD5oJ5be",
        "outputId": "13622007-9f34-4366-a15b-df11baac40f9"
      },
      "execution_count": 50,
      "outputs": [
        {
          "output_type": "execute_result",
          "data": {
            "text/plain": [
              "'The game third entry Red Dead series prequel 2010 game Red Dead Redemption .'"
            ],
            "application/vnd.google.colaboratory.intrinsic+json": {
              "type": "string"
            }
          },
          "metadata": {},
          "execution_count": 50
        }
      ]
    },
    {
      "cell_type": "code",
      "source": [
        "import re\n",
        "from nltk.stem.porter import PorterStemmer\n",
        "from nltk.corpus import stopwords\n",
        "from nltk.stem import WordNetLemmatizer\n",
        "ps = PorterStemmer()\n",
        "wordnet = WordNetLemmatizer()\n",
        "sentences = nltk.sent_tokenize(paragraph)\n",
        "corpus = []\n",
        "for i in range (len(sentences)):\n",
        "  review = re.sub('[^a-zA-Z]', ' ', sentences[i])\n",
        "  review = review.lower()\n",
        "  review = review.split()\n",
        "  review = [ps.stem(word) for word in review if not word in set(stopwords.words('english'))]\n",
        "  review = ' '.join(review)\n",
        "  corpus.append(review)\n",
        "\n",
        "#creating bag of word\n",
        "from sklearn.feature_extraction.text import CountVectorizer\n",
        "cv = CountVectorizer(max_features=1500)\n",
        "X = cv.fit_transform(corpus).toarray()"
      ],
      "metadata": {
        "id": "06BVpTn5MhCR"
      },
      "execution_count": 51,
      "outputs": []
    },
    {
      "cell_type": "code",
      "source": [
        "X"
      ],
      "metadata": {
        "colab": {
          "base_uri": "https://localhost:8080/"
        },
        "id": "LkdzPIwLMgk3",
        "outputId": "21d2925b-db9c-452f-cef0-47799bc15501"
      },
      "execution_count": 52,
      "outputs": [
        {
          "output_type": "execute_result",
          "data": {
            "text/plain": [
              "array([[0, 1, 1, ..., 0, 0, 0],\n",
              "       [0, 0, 0, ..., 0, 0, 0],\n",
              "       [0, 0, 0, ..., 0, 0, 0],\n",
              "       ...,\n",
              "       [0, 0, 0, ..., 1, 0, 0],\n",
              "       [0, 0, 0, ..., 0, 0, 0],\n",
              "       [0, 0, 0, ..., 0, 0, 0]])"
            ]
          },
          "metadata": {},
          "execution_count": 52
        }
      ]
    },
    {
      "cell_type": "code",
      "source": [
        "sentences = nltk.sent_tokenize(paragraph)\n",
        "corpus = []\n",
        "for i in range (len(sentences)):\n",
        "  review = re.sub('[^a-zA-Z]', ' ', sentences[i])\n",
        "  review = review.lower()\n",
        "  review = review.split()\n",
        "  review = [wordnet.lemmatize(word) for word in review if not word in set(stopwords.words('english'))]\n",
        "  review = ' '.join(review)\n",
        "  corpus.append(review)\n",
        "\n",
        "#creating the TF-IDF model\n",
        "from sklearn.feature_extraction.text import TfidfVectorizer\n",
        "tf = TfidfVectorizer()\n",
        "X = tf.fit_transform(corpus).toarray()"
      ],
      "metadata": {
        "id": "W5BLxdXwdwTD"
      },
      "execution_count": 53,
      "outputs": []
    },
    {
      "cell_type": "code",
      "source": [
        "X"
      ],
      "metadata": {
        "colab": {
          "base_uri": "https://localhost:8080/"
        },
        "id": "si7rbyFNiETB",
        "outputId": "127141a6-5367-4583-b933-b5fc3537025d"
      },
      "execution_count": 54,
      "outputs": [
        {
          "output_type": "execute_result",
          "data": {
            "text/plain": [
              "array([[0.        , 0.37671441, 0.37671441, ..., 0.        , 0.        ,\n",
              "        0.        ],\n",
              "       [0.        , 0.        , 0.        , ..., 0.        , 0.        ,\n",
              "        0.        ],\n",
              "       [0.        , 0.        , 0.        , ..., 0.        , 0.        ,\n",
              "        0.        ],\n",
              "       ...,\n",
              "       [0.        , 0.        , 0.        , ..., 0.19135653, 0.        ,\n",
              "        0.        ],\n",
              "       [0.        , 0.        , 0.        , ..., 0.        , 0.        ,\n",
              "        0.        ],\n",
              "       [0.        , 0.        , 0.        , ..., 0.        , 0.        ,\n",
              "        0.        ]])"
            ]
          },
          "metadata": {},
          "execution_count": 54
        }
      ]
    }
  ]
}